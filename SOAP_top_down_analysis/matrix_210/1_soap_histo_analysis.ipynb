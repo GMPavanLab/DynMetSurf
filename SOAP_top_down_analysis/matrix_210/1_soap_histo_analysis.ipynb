{
 "cells": [
  {
   "cell_type": "code",
   "execution_count": 19,
   "metadata": {},
   "outputs": [],
   "source": [
    "from ovito.io import *\n",
    "from ovito.modifiers import *\n",
    "from ovito.data import *\n",
    "from ovito.pipeline import *\n",
    "import numpy as np\n",
    "\n",
    "pipeline = import_file('210_T_700_001.xyz', multiple_frames = True, sort_particles=True)\n",
    "\n",
    "def modify_pipeline_input(frame: int, data: DataCollection):\n",
    "    data.particles_.particle_types_.type_by_id_(1).color = (1.0, 0.4000000059604645, 0.4000000059604645)\n",
    "    data.particles_.particle_types_.type_by_id_(1).radius = 1.7\n",
    "pipeline.modifiers.append(modify_pipeline_input)\n",
    "\n",
    
    "# Expression selection:\n",
    "#210\n",
    "pipeline.modifiers.append(ExpressionSelectionModifier(expression = 'Position.Z>6'))\n",

    "pipeline.modifiers.append(FreezePropertyModifier(source_property = 'Selection', destination_property = 'Selection', freeze_at = 0))\n",
    "                          \n",
    "# Histogram:\n",
    "pipeline.modifiers.append(HistogramModifier(\n",
    "    property = '0_01', \n",
    "    bin_count = 16, \n",
    "    fix_xrange = True, \n",
    "    xrange_start = 0.5, \n",
    "    xrange_end = 16.5,\n",
    "    only_selected = True))\n",
    "\n",
    "export_file(pipeline, \"soap_time_histo_210_700.txt\", \"txt/table\", multiple_frames = True, key =\"histogram[0_01]\")\n",
    "\n"
   ]
  },
  {
   "cell_type": "code",
   "execution_count": null,
   "metadata": {},
   "outputs": [],
   "source": []
  }
 ],
 "metadata": {
  "kernelspec": {
   "display_name": "Python 3 (ipykernel)",
   "language": "python",
   "name": "python3"
  },
  "language_info": {
   "codemirror_mode": {
    "name": "ipython",
    "version": 2
   },
   "file_extension": ".py",
   "mimetype": "text/x-python",
   "name": "python",
   "nbconvert_exporter": "python",
   "pygments_lexer": "ipython2",
   "version": "2.7.17"
  }
 },
 "nbformat": 4,
 "nbformat_minor": 5
}
