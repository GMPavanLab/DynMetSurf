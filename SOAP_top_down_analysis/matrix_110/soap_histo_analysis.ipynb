{
 "cells": [
  {
   "cell_type": "code",
   "execution_count": 19,
   "metadata": {},
   "outputs": [],
   "source": [
    "from ovito.io import *\n",
    "from ovito.modifiers import *\n",
    "from ovito.data import *\n",
    "from ovito.pipeline import *\n",
    "import numpy as np\n",
    "\n",
    "pipeline = import_file('110_T_700_001.xyz', multiple_frames = True, sort_particles=True)\n",
    "\n",
    "def modify_pipeline_input(frame: int, data: DataCollection):\n",
    "    data.particles_.particle_types_.type_by_id_(1).color = (1.0, 0.4000000059604645, 0.4000000059604645)\n",
    "    data.particles_.particle_types_.type_by_id_(1).radius = 1.7\n",
    "pipeline.modifiers.append(modify_pipeline_input)\n",
    "\n",
    "# Affine transformation for 211: \n",
    "#pipeline.modifiers.append(AffineTransformationModifier(\n",
    "#    target_cell = [[63.31982421875, 0.0, 0.0, 0.0], [0.0, 24.816200256347656, 0.0, 0.0], [0.0, 0.0, 38.0, -10.0]], \n",
    "#    relative_mode = False, \n",
    "#    operate_on = {'cell', 'voxels', 'dislocations', 'surfaces', 'vector_properties'}))\n",
    "\n",
    "# Affine transformation for 210: \n",
    "#pipeline.modifiers.append(AffineTransformationModifier(\n",
    "#    target_cell = [[28.6553, -21.4915, 0.0, 0.0], [0.0, 48.0564, 0.0, 0.0], [0.0, 0.0, 40.0, -10.0]], \n",
    "#    relative_mode = False, \n",
    "#    operate_on = {'cell', 'voxels', 'dislocations', 'surfaces', 'vector_properties'}))\n",
    "\n",
    "# Wrap at periodic boundaries:\n",
    "#pipeline.modifiers.append(WrapPeriodicImagesModifier())\n",
    "\n",
    "# Construct surface mesh:\n",
    "#pipeline.modifiers.append(ConstructSurfaceModifier(\n",
    "#    radius = 2.0, \n",
    "#    smoothing_level = 2, \n",
    "#    select_surface_particles = True))\n",
    "\n",
    "# Expression selection:\n",
    "#210\n",
    "#pipeline.modifiers.append(ExpressionSelectionModifier(expression = 'Position.Z>6'))\n",
    "#211\n",
    "#pipeline.modifiers.append(ExpressionSelectionModifier(expression = 'Position.Z>5'))\n",
    "#110\n",
    "pipeline.modifiers.append(ExpressionSelectionModifier(expression = 'Position.Z>6.5'))\n",
    "\n",
    "\n",
    "pipeline.modifiers.append(FreezePropertyModifier(source_property = 'Selection', destination_property = 'Selection', freeze_at = 0))\n",
    "                          \n",
    "# Histogram:\n",
    "pipeline.modifiers.append(HistogramModifier(\n",
    "    property = '0_01', \n",
    "    bin_count = 16, \n",
    "    fix_xrange = True, \n",
    "    xrange_start = 0.5, \n",
    "    xrange_end = 16.5,\n",
    "    only_selected = True))\n",
    "\n",
    "export_file(pipeline, \"soap_time_histo_110_700.txt\", \"txt/table\", multiple_frames = True, key =\"histogram[0_01]\")\n",
    "\n"
   ]
  }
 ],
 "metadata": {
  "kernelspec": {
   "display_name": "Python 3.8.10 ('env': venv)",
   "language": "python",
   "name": "python3"
  },
  "language_info": {
   "codemirror_mode": {
    "name": "ipython",
    "version": 2
   },
   "file_extension": ".py",
   "mimetype": "text/x-python",
   "name": "python",
   "nbconvert_exporter": "python",
   "pygments_lexer": "ipython2",
   "version": "3.8.10"
  },
  "vscode": {
   "interpreter": {
    "hash": "23681d40f44fdf1a19dbb39f5bce5b718db086fdf50cc84aac2f136406f4c027"
   }
  }
 },
 "nbformat": 4,
 "nbformat_minor": 5
}
